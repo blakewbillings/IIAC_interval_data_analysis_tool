{
 "cells": [
  {
   "cell_type": "code",
   "execution_count": 1,
   "metadata": {},
   "outputs": [],
   "source": [
    "import pandas as pd\n",
    "import numpy as np\n",
    "import matplotlib.pyplot as plt\n",
    "\n",
    "df = pd.read_csv('PCB Electric.csv')\n",
    "\n",
    "df['Time'] = df['Timestamp'].copy()\n",
    "\n",
    "df['Timestamp'] = pd.to_datetime(df['Timestamp']).dt.tz_localize(None)\n",
    "df['Time'] = pd.to_datetime(df['Time']).dt.tz_localize(None)\n",
    "df.set_index('Timestamp',inplace = True)\n",
    "\n",
    "for c in df.columns[:-1]:\n",
    "    df[c] = df[c].str.extract('(\\d+)').astype(float)\n",
    "    "
   ]
  },
  {
   "cell_type": "code",
   "execution_count": 2,
   "metadata": {},
   "outputs": [
    {
     "name": "stdout",
     "output_type": "stream",
     "text": [
      "           Date  MaxValue   MaxTime  MinValue   MinTime\n",
      "0    2019-01-01     857.0  22:30:00     740.0  11:15:00\n",
      "1    2019-01-02    1951.0  11:30:00     829.0  01:00:00\n",
      "2    2019-01-03    2157.0  10:15:00    1045.0  02:30:00\n",
      "3    2019-01-04    1999.0  11:15:00    1134.0  05:00:00\n",
      "4    2019-01-05    1422.0  00:00:00     804.0  23:15:00\n",
      "..          ...       ...       ...       ...       ...\n",
      "360  2019-12-27     894.0  16:15:00     221.0  08:30:00\n",
      "361  2019-12-28     757.0  00:00:00     592.0  19:30:00\n",
      "362  2019-12-29     644.0  01:00:00     547.0  14:30:00\n",
      "363  2019-12-30    1967.0  15:00:00     632.0  00:00:00\n",
      "364  2019-12-31    2151.0  12:30:00     791.0  23:30:00\n",
      "\n",
      "[365 rows x 5 columns]\n"
     ]
    }
   ],
   "source": [
    "results = []\n",
    "\n",
    "for day in pd.date_range(start=df.index.min().date(), end=df.index.max().date(), freq='D'):\n",
    "    daily_data = df[df.index.date == day.date()]\n",
    "\n",
    "    if len(daily_data) > 0:\n",
    "        max_value = daily_data['PCB PCB-Virtual Power'].max()\n",
    "        max_time = daily_data.loc[daily_data['PCB PCB-Virtual Power'].idxmax()].name.time()\n",
    "        min_value = daily_data['PCB PCB-Virtual Power'].min()\n",
    "        min_time = daily_data.loc[daily_data['PCB PCB-Virtual Power'].idxmin()].name.time()\n",
    "        results.append({'Date': day.date(), 'MaxValue': max_value, 'MaxTime': max_time, 'MinValue': min_value, 'MinTime': min_time})\n",
    "\n",
    "results_df = pd.concat([pd.DataFrame(result, index=[0]) for result in results], ignore_index=True)\n",
    "\n",
    "print(results_df)\n"
   ]
  }
 ],
 "metadata": {
  "kernelspec": {
   "display_name": "Python 3 (ipykernel)",
   "language": "python",
   "name": "python3"
  },
  "language_info": {
   "codemirror_mode": {
    "name": "ipython",
    "version": 3
   },
   "file_extension": ".py",
   "mimetype": "text/x-python",
   "name": "python",
   "nbconvert_exporter": "python",
   "pygments_lexer": "ipython3",
   "version": "3.9.6"
  }
 },
 "nbformat": 4,
 "nbformat_minor": 2
}
