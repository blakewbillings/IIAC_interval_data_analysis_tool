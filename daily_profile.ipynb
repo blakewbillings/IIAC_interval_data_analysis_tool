{
 "cells": [
  {
   "cell_type": "code",
   "execution_count": 1,
   "metadata": {},
   "outputs": [],
   "source": [
    "import pandas as pd\n",
    "import numpy as np\n",
    "import datetime\n",
    "\n",
    "df = pd.read_csv('PCB Electric Interval Data 2019.csv')\n",
    "\n",
    "df['Timestamp'] = pd.to_datetime(df['Timestamp'])\n",
    "df.set_index('Timestamp',inplace = True)\n",
    "\n",
    "for c in df.columns[:-1]:\n",
    "    df[c] = df[c].str.extract('(\\d+)').astype(float)\n",
    "    \n",
    "    "
   ]
  },
  {
   "cell_type": "code",
   "execution_count": 4,
   "metadata": {},
   "outputs": [],
   "source": [
    "time_diff = df.index[1].minute-df.index[0].minute\n",
    "\n",
    "interval = 24*7*(60/time_diff)\n",
    "\n",
    "data = []\n",
    "\n",
    "for i in range(12):\n",
    "    md = df[df.index.month == i+1]\n",
    "    mdi = md.index\n",
    "\n",
    "    for j in range(int(interval)):\n",
    "        time = mdi[j].time()\n",
    "        month = mdi[j].month\n",
    "        day_of_week = mdi[j].weekday() + 1\n",
    "        ##change title name\n",
    "        kW = np.mean(md['PCB PCB-Virtual Power'].iloc[j::int(interval)])\n",
    "\n",
    "        #uncomment to print values        \n",
    "        #print(f\"Time: {time}, Month: {month}, Day of Week: {day_of_week}, kW: {kW}\")\n",
    "\n",
    "        data.append([time, month, day_of_week, kW])\n",
    "\n",
    "daily_profile = pd.DataFrame(data, columns=['Time', 'Month', 'Day of Week', 'kW'])\n",
    "dp = daily_profile\n"
   ]
  },
  {
   "cell_type": "code",
   "execution_count": 3,
   "metadata": {
    "scrolled": true
   },
   "outputs": [],
   "source": [
    "results = []\n",
    "\n",
    "for day in pd.date_range(start=df.index.min().date(), end=df.index.max().date(), freq='D'):\n",
    "    daily_data = df[df.index.date == day.date()]\n",
    "\n",
    "    if len(daily_data) > 0:\n",
    "        max_value = daily_data['PCB PCB-Virtual Power'].max()\n",
    "        max_time = daily_data.loc[daily_data['PCB PCB-Virtual Power'].idxmax()].name.time()\n",
    "        min_value = daily_data['PCB PCB-Virtual Power'].min()\n",
    "        min_time = daily_data.loc[daily_data['PCB PCB-Virtual Power'].idxmin()].name.time()\n",
    "        results.append({'Date': day.date(), 'MaxValue': max_value, 'MaxTime': max_time, 'MinValue': min_value, 'MinTime': min_time})\n",
    "\n",
    "daily_max_min = pd.concat([pd.DataFrame(result, index=[0]) for result in results], ignore_index=True)\n",
    "mm = daily_max_min\n",
    "\n",
    "#uncomment to print values\n",
    "#print(daily_max_min)\n",
    "\n"
   ]
  }
 ],
 "metadata": {
  "kernelspec": {
   "display_name": "Python 3 (ipykernel)",
   "language": "python",
   "name": "python3"
  },
  "language_info": {
   "codemirror_mode": {
    "name": "ipython",
    "version": 3
   },
   "file_extension": ".py",
   "mimetype": "text/x-python",
   "name": "python",
   "nbconvert_exporter": "python",
   "pygments_lexer": "ipython3",
   "version": "3.9.6"
  }
 },
 "nbformat": 4,
 "nbformat_minor": 2
}
